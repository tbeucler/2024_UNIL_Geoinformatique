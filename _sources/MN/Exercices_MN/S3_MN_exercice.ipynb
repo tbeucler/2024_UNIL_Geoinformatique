{
 "cells": [
  {
   "cell_type": "markdown",
   "metadata": {},
   "source": [
    "## Exercice 3 - Utilisation de nombre aléatoires"
   ]
  }
 ],
 "metadata": {
  "language_info": {
   "name": "python"
  }
 },
 "nbformat": 4,
 "nbformat_minor": 2
}
