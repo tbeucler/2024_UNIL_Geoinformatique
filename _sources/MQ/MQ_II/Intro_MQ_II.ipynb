{
 "cells": [
  {
   "cell_type": "markdown",
   "metadata": {},
   "source": [
    "## Introduction aux Méthodes Quantitatives II"
   ]
  }
 ],
 "metadata": {
  "language_info": {
   "name": "python"
  }
 },
 "nbformat": 4,
 "nbformat_minor": 2
}
