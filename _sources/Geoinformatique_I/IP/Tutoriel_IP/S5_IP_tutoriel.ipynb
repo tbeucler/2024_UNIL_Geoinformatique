{
  "cells": [
    {
      "cell_type": "markdown",
      "metadata": {
        "colab_type": "text",
        "id": "view-in-github"
      },
      "source": [
        "<a href=\"https://colab.research.google.com/github/tbeucler/2024_UNIL_Geoinformatique/blob/main/Geoinformatique_I/IP/Tutoriel_IP/S5_IP_tutoriel.ipynb\" target=\"_parent\"><img src=\"https://colab.research.google.com/assets/colab-badge.svg\" alt=\"Open In Colab\"/></a>"
      ]
    },
    {
      "cell_type": "markdown",
      "metadata": {
        "id": "kdUAd5CBcu_t"
      },
      "source": [
        "# Tutoriel 5: Bonnes pratiques de programmation\n",
        "\n",
        "Dans cette section, nous aborderons les points suivants:\n",
        "\n",
        "1. Classe\n",
        "2. Contrôle des versions\n",
        "3. Assertion\n",
        "4. Unit testing\n",
        "5. Exception\n",
        "6. Débogage"
      ]
    },
    {
      "cell_type": "markdown",
      "metadata": {
        "id": "QVyTX0yScu_t"
      },
      "source": [
        "## Classes"
      ]
    },
    {
      "cell_type": "markdown",
      "metadata": {
        "id": "SmSLYYWucu_u"
      },
      "source": [
        "Jusqu'à présent, nous avons travaillé avec de nombreux types d'objets python :\n",
        "chaînes de caractères, listes, dictionnaires, etc.\n",
        "Ces objets ont différents attributs et répondent de différentes manières aux fonctions\n",
        "aux fonctions intégrées (`len`, etc.).\n",
        "\n",
        "Comment pouvons-nous créer nos propres objets personnalisés ? Réponse : en définissant des classes."
      ]
    },
    {
      "cell_type": "markdown",
      "metadata": {
        "id": "loZOkQrucu_u"
      },
      "source": [
        "### Une classe pour représenter un ouragan\n",
        "Créons notre première classe ci-dessous,"
      ]
    },
    {
      "cell_type": "code",
      "execution_count": null,
      "metadata": {
        "id": "Fquq4fHrcu_u"
      },
      "outputs": [],
      "source": [
        "class Hurricane:\n",
        "\n",
        "    def __init__(self, name):\n",
        "        self.name = name"
      ]
    },
    {
      "cell_type": "markdown",
      "metadata": {
        "id": "ByNgM7O3cu_v"
      },
      "source": [
        "Et maintenant, créons une *instance* de cette classe, `h` :"
      ]
    },
    {
      "cell_type": "code",
      "execution_count": null,
      "metadata": {
        "id": "7a7b5giScu_w"
      },
      "outputs": [],
      "source": [
        "h = Hurricane('florence')\n",
        "print(h,h.name)"
      ]
    },
    {
      "cell_type": "markdown",
      "metadata": {
        "id": "uMa8goACcu_w"
      },
      "source": [
        "Ajoutons-en d'autres, ainsi qu'une validation des entrées :"
      ]
    },
    {
      "cell_type": "code",
      "execution_count": null,
      "metadata": {
        "id": "VMtdcbG1cu_w"
      },
      "outputs": [],
      "source": [
        "class Hurricane:\n",
        "\n",
        "    def __init__(self, name, category, lon):\n",
        "        self.name = name.upper()\n",
        "        self.category = int(category)\n",
        "\n",
        "        if lon > 180 or lon < -180:\n",
        "            raise ValueError(f'Invalid lon {lon}')\n",
        "        self.lon = lon"
      ]
    },
    {
      "cell_type": "code",
      "execution_count": null,
      "metadata": {
        "id": "xngBJTq7cu_x"
      },
      "outputs": [],
      "source": [
        "h = Hurricane('florence', 4, -46)\n",
        "print(h,h.name)\n",
        "h = Hurricane('Ida', 5, 300)"
      ]
    },
    {
      "cell_type": "code",
      "execution_count": null,
      "metadata": {
        "id": "yrBcg9Llcu_x"
      },
      "outputs": [],
      "source": [
        "# Ajoutons maintenant une méthode personnalisée :class Hurricane:\n",
        "class Hurricane:\n",
        "\n",
        "    def __init__(self, name, category, lon):\n",
        "        self.name = name.upper()\n",
        "        self.category = int(category)\n",
        "\n",
        "        if lon > 180 or lon < -180:\n",
        "            raise ValueError(f'Invalid lon {lon}')\n",
        "        self.lon = lon\n",
        "\n",
        "    def is_dangerous(self):\n",
        "        return self.category > 1"
      ]
    },
    {
      "cell_type": "code",
      "execution_count": null,
      "metadata": {
        "id": "7gD5P0Uicu_x"
      },
      "outputs": [],
      "source": [
        "f = Hurricane('florence', 4, -46)\n",
        "f.is_dangerous()"
      ]
    },
    {
      "cell_type": "markdown",
      "metadata": {
        "id": "AUgTFzIPcu_y"
      },
      "source": [
        "### Méthodes magiques / Dunder\n",
        "Nous pouvons implémenter des méthodes spéciales qui commencent par des doubles points (c'est-à-dire des méthodes \"dunder\"), qui nous permettent de personnaliser le comportement de nos classes. ([En savoir plus ici](https://www.python-course.eu/python3_magic_methods.php)). Nous en avons déjà appris une : `__init__`. Implémentons la méthode `__repr__` pour que notre classe affiche quelque chose de joli."
      ]
    },
    {
      "cell_type": "code",
      "execution_count": null,
      "metadata": {
        "id": "Afu0HNcdcu_y"
      },
      "outputs": [],
      "source": [
        "class Hurricane:\n",
        "\n",
        "    def __init__(self, name, category, lon):\n",
        "        self.name = name.upper()\n",
        "        self.category = int(category)\n",
        "\n",
        "        if lon > 180 or lon < -180:\n",
        "            raise ValueError(f'Invalid lon {lon}')\n",
        "        self.lon = lon\n",
        "\n",
        "    def __repr__(self):\n",
        "        return f\"<Hurricane {self.name} (cat {self.category})>\"\n",
        "\n",
        "    def is_dangerous(self):\n",
        "        return self.category > 1"
      ]
    },
    {
      "cell_type": "code",
      "execution_count": null,
      "metadata": {
        "id": "TKodWGMPcu_y"
      },
      "outputs": [],
      "source": [
        "f = Hurricane('florence', 4, -46)\n",
        "f"
      ]
    },
    {
      "cell_type": "markdown",
      "metadata": {
        "id": "UiCTSWaRcu_y"
      },
      "source": [
        "## Contrôle des versions"
      ]
    },
    {
      "cell_type": "markdown",
      "metadata": {},
      "source": [
        "Le contrôle des versions est une pratique essentielle dans le développement logiciel. Git est un systêm de contrôle de version distribué qui permet de suivre les modifications apportées à votre code. "
      ]
    },
    {
      "cell_type": "markdown",
      "metadata": {},
      "source": [
        "### Initialisation d'un Répertoire Git"
      ]
    },
    {
      "cell_type": "code",
      "execution_count": null,
      "metadata": {},
      "outputs": [],
      "source": [
        "# Ouvrez votre terminal et naviguez vers le répertoire de votre projet\n",
        "cd chemin/vers/votre/projet\n",
        "\n",
        "# Initialisez un nouveau référentiel Git dans le répertoire\n",
        "git init"
      ]
    },
    {
      "cell_type": "markdown",
      "metadata": {},
      "source": [
        "### Ajout de fichiers au suivi de Git"
      ]
    },
    {
      "cell_type": "code",
      "execution_count": null,
      "metadata": {},
      "outputs": [],
      "source": [
        "# Créez quelques fichiers dans votre projet\n",
        "touch fichier1.py fichier2.txt\n",
        "\n",
        "# Ajoutez les fichiers à l'index (zone de préparation)\n",
        "git add fichier1.py fichier2.txt\n",
        "\n",
        "# Validez les changements en créant un commit\n",
        "git commit -m \"Premier commit, ajout de fichier1.py et fichier2.txt\""
      ]
    },
    {
      "cell_type": "markdown",
      "metadata": {},
      "source": [
        "### Consultation de l'histoire du projet"
      ]
    },
    {
      "cell_type": "code",
      "execution_count": null,
      "metadata": {},
      "outputs": [],
      "source": [
        "# Affichez l'historique des commits\n",
        "git log\n"
      ]
    },
    {
      "cell_type": "markdown",
      "metadata": {},
      "source": [
        "### Modification de fichier et création de Nouveaux commits"
      ]
    },
    {
      "cell_type": "code",
      "execution_count": null,
      "metadata": {},
      "outputs": [],
      "source": [
        "# Modifiez fichier1.py et ajoutez un nouveau fichier fichier3.py\n",
        "echo \"print('Hello, Git!')\" > fichier1.py\n",
        "touch fichier3.py\n",
        "\n",
        "# Ajoutez les modifications à l'index\n",
        "git add fichier1.py fichier3.py\n",
        "\n",
        "# Validez les changements avec un nouveau commit\n",
        "git commit -m \"Modification de fichier1.py et ajout de fichier3.py\"\n"
      ]
    },
    {
      "cell_type": "markdown",
      "metadata": {},
      "source": [
        "### Branches et fusion (merge)"
      ]
    },
    {
      "cell_type": "code",
      "execution_count": null,
      "metadata": {},
      "outputs": [],
      "source": [
        "# Créez une nouvelle branche\n",
        "git branch nouvelle_fonctionnalite\n",
        "\n",
        "# Changez de branche\n",
        "git checkout nouvelle_fonctionnalite\n",
        "\n",
        "# Effectuez des modifications et validez les changements\n",
        "echo \"print('Nouvelle fonctionnalité ajoutée')\" > nouvelle_fonctionnalite.py\n",
        "git add nouvelle_fonctionnalite.py\n",
        "git commit -m \"Ajout de la nouvelle fonctionnalité\"\n",
        "\n",
        "# Revenez à la branche principale (master)\n",
        "git checkout master\n",
        "\n",
        "# Fusionnez la nouvelle fonctionnalité dans la branche principale\n",
        "git merge nouvelle_fonctionnalite\n"
      ]
    },
    {
      "cell_type": "markdown",
      "metadata": {},
      "source": [
        "Il existe de nombreuses autres fonctionnalités Git à explorer, mais ces concepts de base vous donneront une base solide pour travailler avec le contrôle des versions dans vos projets Python"
      ]
    },
    {
      "cell_type": "markdown",
      "metadata": {
        "id": "RDl-Ya6xcu_y"
      },
      "source": [
        "## Assertion"
      ]
    },
    {
      "cell_type": "markdown",
      "metadata": {},
      "source": [
        "Les assertions en Python sont utilisée pour vérifier si une condition spécifiée est vraie. Si l'assertion est vraie, le programme continue normalement. Sinon, une exception `AssertionError`est levée avec un message d'eurreur facultatif."
      ]
    },
    {
      "cell_type": "code",
      "execution_count": null,
      "metadata": {},
      "outputs": [],
      "source": [
        "# 'a' est égale à 5. Si la condition est fausse, une exception \"AssertionErreur\" est affichée avec le message spécifié.\n",
        "a = 5\n",
        "assert a == 5, \"La valeur de 'a' devrait être 5\"\n",
        "print(\"La condition est vraie, le programme continue.\")"
      ]
    },
    {
      "cell_type": "markdown",
      "metadata": {},
      "source": [
        "Assertion est aussi possible avec les fontions"
      ]
    },
    {
      "cell_type": "code",
      "execution_count": null,
      "metadata": {},
      "outputs": [],
      "source": [
        "# Assertion vérifie si le diviseur ('b') n'est pas égal à zéro avant d'effectuer la division.\n",
        "# Si 'b' est zéro, une exception \"AssertioError\" est affichée.\n",
        "\n",
        "def diviser(a, b):\n",
        "    assert b != 0, \"Division par zéro\"\n",
        "    return a / b\n",
        "\n",
        "resultat = diviser(10, 2)\n",
        "print(\"Le résultat de la division est :\", resultat)"
      ]
    },
    {
      "cell_type": "markdown",
      "metadata": {},
      "source": [
        " Les assertions sont utilisées pendant le développement et les tests, mais elles peuvent être désactivées en mode production pour améliorer les performances."
      ]
    },
    {
      "cell_type": "code",
      "execution_count": null,
      "metadata": {},
      "outputs": [],
      "source": [
        "# Le module __debug__ est utilisé pour vérifier si les assertions sont activées. \n",
        "# En mode production (lorsque le script est exécuté avec l'option -O), les assertions sont désactivées.\n",
        "def fonction_critique(x):\n",
        "    assert x > 0, \"La valeur de 'x' doit être positive\"\n",
        "    # Le reste du code critique ici\n",
        "\n",
        "# Désactiver les assertions en mode production\n",
        "# python -O script.py\n"
      ]
    },
    {
      "cell_type": "markdown",
      "metadata": {},
      "source": [
        "Les assertions en Python sont un moyen puissant de vérifier les conditions et de s'assurer que votre code fonctionne comme prévu. Cependant, elles ne devraient être utilisées que pour des conditions qui ne devraient jamais se produire normalement."
      ]
    },
    {
      "cell_type": "markdown",
      "metadata": {
        "id": "RnYUY0e1cu_z"
      },
      "source": [
        "## Unit Testing"
      ]
    },
    {
      "cell_type": "markdown",
      "metadata": {},
      "source": [
        "Les tests unitaires sont un moyen essentiel de s'assurer que chaque composant individuel d'un programme fonctionne correctement. En Python, le module `unittest` offre un cadre robuste pour écrire et exécuter des tests unitaires."
      ]
    },
    {
      "cell_type": "markdown",
      "metadata": {},
      "source": [
        "Création d'un Fichier à Tester\n",
        "Créez un fichier Python calculatrice.py contenant des fonctions simples à tester."
      ]
    },
    {
      "cell_type": "code",
      "execution_count": null,
      "metadata": {},
      "outputs": [],
      "source": [
        "# calculatrice.py\n",
        "\n",
        "def addition(a, b):\n",
        "    return a + b\n",
        "\n",
        "def soustraction(a, b):\n",
        "    return a - b\n",
        "\n",
        "def multiplication(a, b):\n",
        "    return a * b\n",
        "\n",
        "def division(a, b):\n",
        "    if b == 0:\n",
        "        raise ValueError(\"Division par zéro\")\n",
        "    return a / b\n"
      ]
    },
    {
      "cell_type": "markdown",
      "metadata": {},
      "source": [
        "Écriture des Tests Unitaires\n",
        "Créez un fichier de tests test_calculatrice.py pour tester les fonctions de la calculatrice."
      ]
    },
    {
      "cell_type": "code",
      "execution_count": null,
      "metadata": {},
      "outputs": [],
      "source": [
        "# test_calculatrice.py\n",
        "import unittest\n",
        "from calculatrice import addition, soustraction, multiplication, division\n",
        "\n",
        "# Chaque méthode dans cette classe qui commence par test_ sera considérée comme un test unitaire\n",
        "# Nous utilisons les méthodes de l'objet self telles que assertEqual, \n",
        "# assertRaises, etc., pour effectuer les vérifications.\n",
        "class TestCalculatrice(unittest.TestCase):\n",
        "\n",
        "    def test_addition(self):\n",
        "        self.assertEqual(addition(3, 4), 7)\n",
        "        self.assertEqual(addition(-1, 1), 0)\n",
        "        self.assertEqual(addition(0, 0), 0)\n",
        "\n",
        "    def test_soustraction(self):\n",
        "        self.assertEqual(soustraction(5, 2), 3)\n",
        "        self.assertEqual(soustraction(0, 0), 0)\n",
        "        self.assertEqual(soustraction(-1, -1), 0)\n",
        "\n",
        "    def test_multiplication(self):\n",
        "        self.assertEqual(multiplication(2, 3), 6)\n",
        "        self.assertEqual(multiplication(0, 5), 0)\n",
        "        self.assertEqual(multiplication(-2, -2), 4)\n",
        "\n",
        "    def test_division(self):\n",
        "        self.assertEqual(division(8, 4), 2)\n",
        "        self.assertEqual(division(5, 2), 2.5)\n",
        "        with self.assertRaises(ValueError):\n",
        "            division(10, 0)\n",
        "\n",
        "if __name__ == '__main__':\n",
        "    unittest.main()\n"
      ]
    },
    {
      "cell_type": "markdown",
      "metadata": {},
      "source": [
        "Assertion avec Tests unitaires pour vérifier si le code se comporte comme prévu."
      ]
    },
    {
      "cell_type": "code",
      "execution_count": null,
      "metadata": {},
      "outputs": [],
      "source": [
        "# assertion est utilisée comme un test unitaire pour vérifier si la fonction addition fonctionne correctement.\n",
        "def addition(a, b):\n",
        "    return a + b\n",
        "\n",
        "# Test unitaire\n",
        "assert addition(3, 4) == 7, \"Test échoué : addition(3, 4) devrait être égal à 7\"\n",
        "print(\"Test réussi : addition(3, 4) est égal à 7\")\n"
      ]
    },
    {
      "cell_type": "markdown",
      "metadata": {},
      "source": [
        "Exécution des Tests\n",
        "Pour exécuter les tests, exécutez le fichier test_calculatrice.py :"
      ]
    },
    {
      "cell_type": "code",
      "execution_count": null,
      "metadata": {},
      "outputs": [],
      "source": [
        "python test_calculatrice.py"
      ]
    },
    {
      "cell_type": "markdown",
      "metadata": {},
      "source": [
        "Vous devriez voir une sortie indiquant si les tests ont réussi ou échoué. Si tout est correct, vous verrez quelque chose comme :"
      ]
    },
    {
      "cell_type": "code",
      "execution_count": null,
      "metadata": {},
      "outputs": [],
      "source": [
        ".....\n",
        "----------------------------------------------------------------------\n",
        "Ran 5 tests in 0.001s\n",
        "\n",
        "OK"
      ]
    },
    {
      "cell_type": "markdown",
      "metadata": {},
      "source": [
        "Les tests unitaires avec unittest offrent un moyen efficace de garantir que vos fonctions et classes fonctionnent correctement. Il est recommandé d'écrire des tests unitaires pour chaque composant significatif de votre code afin de faciliter la détection précoce des erreurs et d'améliorer la qualité de votre logiciel."
      ]
    },
    {
      "cell_type": "markdown",
      "metadata": {},
      "source": [
        "## Exception"
      ]
    },
    {
      "cell_type": "markdown",
      "metadata": {},
      "source": [
        "Les exceptions en Python sont des événements qui se produisent pendant l'exécution d'un programme et qui perturbent le flux normal d'instructions. Les exceptions sont généralement utilisées pour gérer des erreurs et des situations exceptionnelles."
      ]
    },
    {
      "cell_type": "markdown",
      "metadata": {},
      "source": [
        "Structure d'une Exception\n",
        "\n",
        "Les exceptions sont généralement constituées d'un type d'exception et éventuellement d'un message d'erreur. Voici comment cela ressemble :"
      ]
    },
    {
      "cell_type": "code",
      "execution_count": null,
      "metadata": {},
      "outputs": [],
      "source": [
        "try:\n",
        "    # Bloc de code où une exception pourrait se produire\n",
        "    # ...\n",
        "    raise ValueError(\"Ceci est un message d'erreur\")\n",
        "except ValueError as e:\n",
        "    # Gestion de l'exception\n",
        "    print(f\"Une exception de type {type(e).__name__} s'est produite : {e}\")\n",
        "finally:\n",
        "    # Bloc exécuté qu'il y ait eu ou non une exception\n",
        "    print(\"Le bloc finally est toujours exécuté\")\n"
      ]
    },
    {
      "cell_type": "markdown",
      "metadata": {},
      "source": [
        "Types Courants d'Exceptions\n",
        "ValueError: Erreur de valeur.\n",
        "TypeError: Erreur de type.\n",
        "ZeroDivisionError: Tentative de division par zéro.\n",
        "FileNotFoundError: Fichier non trouvé.\n",
        "IndexError: Index hors de la plage valide."
      ]
    },
    {
      "cell_type": "markdown",
      "metadata": {},
      "source": [
        "Utilisation du Bloc `try...except`\n"
      ]
    },
    {
      "cell_type": "code",
      "execution_count": null,
      "metadata": {},
      "outputs": [],
      "source": [
        "# Exemple 1\n",
        "try:\n",
        "    nombre = int(input(\"Entrez un nombre : \"))\n",
        "    resultat = 10 / nombre\n",
        "    print(\"Le résultat est :\", resultat)\n",
        "except ValueError:\n",
        "    print(\"Erreur : Vous devez entrer un nombre entier.\")\n",
        "except ZeroDivisionError:\n",
        "    print(\"Erreur : Division par zéro.\")\n",
        "finally:\n",
        "    print(\"Ce bloc est toujours exécuté, qu'il y ait eu une exception ou non.\")\n"
      ]
    },
    {
      "cell_type": "markdown",
      "metadata": {},
      "source": [
        "Utilisation du Bloc `try...except...else`"
      ]
    },
    {
      "cell_type": "code",
      "execution_count": null,
      "metadata": {},
      "outputs": [],
      "source": [
        "# Exemple 2\n",
        "try:\n",
        "    fichier = open(\"exemple.txt\", \"r\")\n",
        "except FileNotFoundError:\n",
        "    print(\"Erreur : Le fichier n'a pas été trouvé.\")\n",
        "else:\n",
        "    contenu = fichier.read()\n",
        "    print(\"Contenu du fichier :\", contenu)\n",
        "    fichier.close()\n"
      ]
    },
    {
      "cell_type": "markdown",
      "metadata": {},
      "source": [
        "Utilisation du Bloc `try...except...else...finally`"
      ]
    },
    {
      "cell_type": "code",
      "execution_count": null,
      "metadata": {},
      "outputs": [],
      "source": [
        "# Exemple 3\n",
        "try:\n",
        "    fichier = open(\"exemple.txt\", \"r\")\n",
        "except FileNotFoundError:\n",
        "    print(\"Erreur : Le fichier n'a pas été trouvé.\")\n",
        "else:\n",
        "    contenu = fichier.read()\n",
        "    print(\"Contenu du fichier :\", contenu)\n",
        "    fichier.close()\n",
        "finally:\n",
        "    print(\"Ce bloc est toujours exécuté, qu'il y ait eu une exception ou non.\")\n"
      ]
    },
    {
      "cell_type": "markdown",
      "metadata": {},
      "source": [
        "Utilisation de la Clause raise pour Lever une Exception"
      ]
    },
    {
      "cell_type": "code",
      "execution_count": null,
      "metadata": {},
      "outputs": [],
      "source": [
        "# Exemple 4\n",
        "def diviser(a, b):\n",
        "    if b == 0:\n",
        "        raise ValueError(\"Erreur : Division par zéro.\")\n",
        "    return a / b\n",
        "\n",
        "try:\n",
        "    resultat = diviser(10, 0)\n",
        "except ValueError as e:\n",
        "    print(f\"Une exception de type {type(e).__name__} s'est produite : {e}\")"
      ]
    },
    {
      "cell_type": "markdown",
      "metadata": {},
      "source": [
        "Les exceptions en Python offrent un moyen de gérer les erreurs et les situations exceptionnelles de manière élégante. Il est important de les utiliser pour rendre votre code robuste et faciliter la détection et la gestion des erreurs."
      ]
    },
    {
      "cell_type": "markdown",
      "metadata": {},
      "source": [
        "## Débogage"
      ]
    },
    {
      "cell_type": "markdown",
      "metadata": {},
      "source": [
        "Le débogage est un processus essentiel lors du développement de logiciels. En Python, vous pouvez utiliser des outils intégrés tels que le module `pdb` pour déboguer votre code et comprendre ce qui se passe lors de l'exécution."
      ]
    },
    {
      "cell_type": "markdown",
      "metadata": {},
      "source": [
        "Utilisation du Module pdb\n",
        "\n",
        "Le module `pdb` est un débogueur intégré à Python qui permet d'arrêter l'exécution du programme à un point donné et d'inspecter l'état du programme à ce moment-là."
      ]
    },
    {
      "cell_type": "markdown",
      "metadata": {},
      "source": [
        "### Activation du Débogueur\n"
      ]
    },
    {
      "cell_type": "code",
      "execution_count": null,
      "metadata": {},
      "outputs": [],
      "source": [
        "# Le débogueur sera activé à la ligne contenant pdb.set_trace(). \n",
        "# Vous pouvez utiliser des commandes telles que n (next), c (continue), \n",
        "# p (print) pour naviguer et inspecter les variables.\n",
        "\n",
        "import pdb\n",
        "\n",
        "def exemple():\n",
        "    x = 10\n",
        "    y = 5\n",
        "    z = x + y\n",
        "    pdb.set_trace()  # Activation du débogueur\n",
        "    print(\"Le résultat est :\", z)\n",
        "\n",
        "exemple()"
      ]
    },
    {
      "cell_type": "markdown",
      "metadata": {},
      "source": [
        "### Exécution avec le Mode Intéractif"
      ]
    },
    {
      "cell_type": "markdown",
      "metadata": {},
      "source": [
        "Lorsque le débogueur est activé, vous entrez dans un mode intéractif où vous pouvez exécuter des commandes. Par exemple :\n",
        "\n",
        "- `n` : Exécuter la ligne suivante.\n",
        "- `c` : Continuer l'exécution jusqu'à la fin ou jusqu'à la prochaine pause.\n",
        "- `p` variable : Afficher la valeur d'une variable.\n",
        "- `q` : Quitter le débogueur.\n",
        "\n",
        "Utilisation de breakpoint (Python 3.7+)"
      ]
    },
    {
      "cell_type": "markdown",
      "metadata": {},
      "source": [
        "\n",
        "À partir de Python 3.7, vous pouvez utiliser la fonction breakpoint() pour activer le débogueur de manière plus concise."
      ]
    },
    {
      "cell_type": "code",
      "execution_count": null,
      "metadata": {},
      "outputs": [],
      "source": [
        "# Le code s'arrêtera automatiquement à l'endroit où breakpoint() est appelé.\n",
        "def exemple():\n",
        "    x = 10\n",
        "    y = 5\n",
        "    z = x + y\n",
        "    breakpoint()  # Activation du débogueur\n",
        "    print(\"Le résultat est :\", z)\n",
        "\n",
        "exemple()"
      ]
    },
    {
      "cell_type": "markdown",
      "metadata": {},
      "source": [
        "Utilisation d'un Environnement de Développement Intégré (IDE)\n",
        "\n",
        "La plupart des environnements de développement intégrés (IDE) fournissent des outils de débogage visuels. Par exemple, dans Visual Studio Code, vous pouvez définir des points d'arrêt, inspecter les variables en cours d'exécution et utiliser des fonctionnalités de débogage avancées."
      ]
    },
    {
      "cell_type": "markdown",
      "metadata": {},
      "source": [
        "Le débogage en Python est une compétence essentielle pour identifier et résoudre les erreurs dans votre code. Que vous utilisiez le module `pdb` en mode console ou des fonctionnalités de débogage visuel dans un IDE, le débogage vous aidera à comprendre le comportement de votre programme et à corriger les problèmes."
      ]
    }
  ],
  "metadata": {
    "colab": {
      "include_colab_link": true,
      "provenance": []
    },
    "kernelspec": {
      "display_name": "JupyterBook",
      "language": "python",
      "name": "python3"
    },
    "language_info": {
      "name": "python",
      "version": "3.12.0"
    }
  },
  "nbformat": 4,
  "nbformat_minor": 0
}
