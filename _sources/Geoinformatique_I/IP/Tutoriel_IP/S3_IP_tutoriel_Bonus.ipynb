{
  "cells": [
    {
      "cell_type": "markdown",
      "metadata": {
        "id": "view-in-github",
        "colab_type": "text"
      },
      "source": [
        "<a href=\"https://colab.research.google.com/github/tbeucler/2024_UNIL_Geoinformatique/blob/main/Geoinformatique_I/IP/Tutoriel_IP/S3_IP_tutoriel_Bonus.ipynb\" target=\"_parent\"><img src=\"https://colab.research.google.com/assets/colab-badge.svg\" alt=\"Open In Colab\"/></a>"
      ]
    },
    {
      "cell_type": "markdown",
      "metadata": {
        "id": "GwNKX7wEbaKz"
      },
      "source": [
        "## File I/O Bonus"
      ]
    },
    {
      "cell_type": "markdown",
      "metadata": {
        "id": "3_oG-mupbaKz"
      },
      "source": [
        "Nous avons déjà abordé un grand nombre de sujets en une journée, mais votre professeur a également rédigé des instructions sur la lecture et l'écriture de données dans d'autres formats ! Le tutoriel suivant sera donc laissé à votre disposition pour que vous puissiez l'expérimenter chez vous."
      ]
    },
    {
      "cell_type": "markdown",
      "metadata": {
        "id": "uCzZycD9baKz"
      },
      "source": [
        "### Données structurées avec JSON\n",
        "JSON est un format populaire pour les données structurées qui peut être utilisé dans Python et Perl, entre autres langages.\n",
        "Le format JSON est construit sur une collection de paires nom/valeur. Les informations sur le nom peuvent être un objet, un enregistrement, un dictionnaire, une table de hachage, une liste à clés ou un tableau associatif. La valeur associée au nom peut être un tableau, un vecteur, une liste ou une séquence.\n",
        "\n",
        "Nous pouvons utiliser le paquetage `json` pour les entrées-sorties. La syntaxe du paquet est très similaire à celle de `pickle` :\n",
        "\n",
        "* `dump()` : écriture d'une chaîne encodée dans un fichier.\n",
        "* `load()` : Décodage lors de la lecture d'un fichier JSON.\n",
        "* `dumps()` : encodage en objets JSON\n",
        "* `loads()` : Décode la chaîne JSON.\n",
        "\n",
        "**Exemple de données JSON**\n",
        "\n",
        "```python\n",
        "{\n",
        "    \"stations\" : [\n",
        "        {\n",
        "            \"acronyme\" : \"BLD\",\n",
        "            \"nom\" : \"Boulder Colorado\",\n",
        "            \"latitude\" : 40.00,\n",
        "            \"longitude\" : -105.25\n",
        "        },\n",
        "        {\n",
        "            \"acronyme\" : \"BHD\",\n",
        "            \"name\" : \"Baring Head Wellington New Zealand\",\n",
        "            \"latitude\" : -41.28,\n",
        "            \"longitude\" : 174.87\n",
        "        }\n",
        "    ]\n",
        "}\n",
        "```"
      ]
    },
    {
      "cell_type": "markdown",
      "metadata": {
        "id": "Mh4Cd3J0baK0"
      },
      "source": [
        "Essayons de lire ce cadre de données JSON avec `json` !"
      ]
    },
    {
      "cell_type": "code",
      "execution_count": null,
      "metadata": {
        "id": "Ei919ayobaK1"
      },
      "outputs": [],
      "source": [
        "import json\n",
        "json_data = '{\"stations\": [{\"acronym\": \"BLD\", \\\n",
        "                                \"nom\": \"Boulder Colorado\", \\\n",
        "                            \"latitude\": 40.00, \\\n",
        "                            \"longitude\": -105.25}, \\\n",
        "                            {\"acronym\": \"BHD\", \\\n",
        "                             \"nom\": \"Baring Head Wellington New Zealand\",\\\n",
        "                             \"latitude\": -41.28, \\\n",
        "                             \"longitude\": 174.87}]}'\n",
        "\n",
        "python_obj = json.loads(json_data)"
      ]
    },
    {
      "cell_type": "code",
      "execution_count": null,
      "metadata": {
        "id": "-qsugAN3baK2"
      },
      "outputs": [],
      "source": [
        "for x in python_obj['stations']:\n",
        "    print(x[\"nom\"])"
      ]
    },
    {
      "cell_type": "code",
      "execution_count": null,
      "metadata": {
        "id": "nw_6t7snbaK3"
      },
      "outputs": [],
      "source": [
        "### Convertir python_obj en JSON\n",
        "print(json.dumps(python_obj, sort_keys=True, indent=4))"
      ]
    },
    {
      "cell_type": "markdown",
      "metadata": {
        "id": "VWqB-zHGbaK3"
      },
      "source": [
        "Nous allons maintenant essayer de convertir un objet python en JSON et de l'écrire dans un fichier.\n",
        "La syntaxe pour la sérialisation et la désérialisation dans le paquet `json` est presque la même que celle de `pickle`"
      ]
    },
    {
      "cell_type": "code",
      "execution_count": null,
      "metadata": {
        "id": "AKHvx8qlbaK3"
      },
      "outputs": [],
      "source": [
        "# Convertir les objets python en JSON\n",
        "x = {\n",
        "  \"prénom\" : \"John\",\n",
        "  \"âge\" : 30,\n",
        "  \"marié\" : True,\n",
        "  \"divorcé\" : False,\n",
        "  \"enfants\" : (\"Ann\", \"Billy\"),\n",
        "  \"animaux\" : None,\n",
        "  \"voitures\" : [\n",
        "    {\"modèle\" : \"BMW 230\", \"mpg\" : 27.5},\n",
        "    {\"Modèle\" : \"Ford Edge\", \"mpg\" : 24.1}\n",
        "  ]\n",
        "}"
      ]
    },
    {
      "cell_type": "code",
      "execution_count": null,
      "metadata": {
        "id": "wNumgtB_baK4"
      },
      "outputs": [],
      "source": [
        "# Sérialisation\n",
        "with open('./pythonobj.json','w') as sid :\n",
        "  json.dump(x,sid)\n",
        "# Désérialisation\n",
        "with open('./pythonobj.json', 'r') as sid :\n",
        "  z = json.load(sid)\n",
        "\n",
        "print(z)"
      ]
    },
    {
      "cell_type": "markdown",
      "metadata": {
        "id": "hOCmNWcybaK4"
      },
      "source": [
        "### Données quadrillées à N dimensions avec NetCDF4\n",
        "Les jeux de données géoscientifiques contiennent souvent plusieurs dimensions. Par exemple, les résultats des modèles climatiques contiennent généralement 4 dimensions : le temps (t), le niveau vertical (z), la longitude (lon) et la latitude (lat). Ces données sont trop complexes pour être stockées dans des tableaux.\n",
        "\n",
        "Développé par _Unidata_ (une filiale de UCAR), le format NetCDF contient une structure hiérarchique qui permet une meilleure organisation et un meilleur stockage de grands ensembles de données multidimensionnelles, d'informations sur les axes et d'autres métadonnées. Il est bien adapté à la gestion de grands ensembles de données numériques, car il permet aux utilisateurs d'accéder à des parties d'un ensemble de données sans avoir à le charger entièrement en mémoire.\n",
        "\n",
        "Nous pouvons utiliser le paquetage `netCDF4` pour créer, lire et stocker des données dans NetCDF4. Un autre paquetage, `xarray`, est également disponible pour ce format de données.\n",
        "\n",
        "#### **Voici comment vous créez et stockez normalement des données dans un fichier netCDF:**\n",
        "\n",
        "\n",
        "1.   Ouvrez/créez un jeu de données netCDF.\n",
        "2.   Définissez les dimensions des données.\n",
        "3.   Construire des variables netCDF en utilisant les dimensions définies.\n",
        "4.   Transférer les données dans les variables netCDF.\n",
        "5.   Ajouter des attributs aux variables et à l'ensemble de données (facultatif mais recommandé).\n",
        "6.   Fermez le jeu de données netCDF."
      ]
    },
    {
      "cell_type": "markdown",
      "metadata": {
        "id": "a6PfdHPkbaK4"
      },
      "source": [
        "##### **Ouvrir un jeu de données netCDF4**"
      ]
    },
    {
      "cell_type": "code",
      "execution_count": null,
      "metadata": {
        "id": "M8ynxP81baK4"
      },
      "outputs": [],
      "source": [
        "ncfid = netCDF4.Dataset('sample_netcdf.nc', mode='w', format='NETCDF4')"
      ]
    },
    {
      "cell_type": "markdown",
      "metadata": {
        "id": "4d9AnNc8baK5"
      },
      "source": [
        "`modeType` a les options suivantes :\n",
        "* 'w' : pour créer un nouveau fichier\n",
        "* 'r+' : pour lire et écrire dans un fichier existant\n",
        "* 'r' : pour lire (uniquement) un fichier existant\n",
        "* 'a' : pour ajouter un fichier à un fichier existant\n",
        "\n",
        "`fileFormat` a les options suivantes :\n",
        "* 'NETCDF3_CLASSIC' : Format netCDF original     \n",
        "* 'NETCDF3_64BIT_OFFSET' : Utilisé pour alléger les restrictions de taille des fichiers netCDF classiques.\n",
        "* 'NETCDF4_CLASSIC'\n",
        "* 'NETCDF4' : Offre de nouvelles fonctionnalités telles que les groupes, les types composés, les tableaux de longueur variable, les nouveaux types d'entiers non signés, l'accès parallèle aux E/S, etc.\n",
        "* 'NETCDF3_64BIT_DATA'"
      ]
    },
    {
      "cell_type": "markdown",
      "metadata": {
        "id": "t94UmTClbaK5"
      },
      "source": [
        "##### **Création de dimensions dans un fichier netCDF</font>**\n",
        "* Déclarez les dimensions avec `.createDimension(size)`\n",
        "* Pour des dimensions illimitées, utilisez `None` ou `0` comme taille.\n",
        "* Les dimensions de taille illimitée doivent être déclarées avant (\"à gauche de\") les autres dimensions."
      ]
    },
    {
      "cell_type": "code",
      "execution_count": null,
      "metadata": {
        "id": "3hiL3Z63baK5"
      },
      "outputs": [],
      "source": [
        "# Définir les dimensions des données\n",
        "time = ncfid.createDimension('time', None)\n",
        "lev = ncfid.createDimension('lev', 72)\n",
        "lat = ncfid.createDimension('lat', 91)\n",
        "lon = ncfid.createDimension('lon', 144)"
      ]
    },
    {
      "cell_type": "code",
      "execution_count": null,
      "metadata": {
        "id": "t3AmtGyQbaK5"
      },
      "outputs": [],
      "source": [
        "##########################################################################################\n",
        "# Créer des variables de dimension et des variables de données pré-remplies avec fill_value\n",
        "##########################################################################################\n",
        "# Variables de dimension\n",
        "times = ncfid.createVariable('time','f8',('time',))\n",
        "levels = ncfid.createVariable('lev','i4',('lev',))\n",
        "latitudes = ncfid.createVariable('lat','f4',('lat',))\n",
        "longitudes = ncfid.createVariable('lon','f4',('lon',))\n",
        "# Variable de données pré-remplie\n",
        "temp = ncfid.createVariable('temp','f4',\n",
        "                            ('time', 'lev', 'lat', 'lon',),\n",
        "                            fill_value=1.0e15)"
      ]
    },
    {
      "cell_type": "markdown",
      "metadata": {
        "id": "4_fXby0kbaK5"
      },
      "source": [
        "##### **Ajouter des attributs variables</font>**"
      ]
    },
    {
      "cell_type": "code",
      "execution_count": null,
      "metadata": {
        "id": "l6Lvr-6CbaK6"
      },
      "outputs": [],
      "source": [
        "import datetime\n",
        "latitudes.long_name = 'latitude'\n",
        "latitudes.units = 'degrés nord'\n",
        "\n",
        "longitudes.nom_long = 'longitude'\n",
        "longitudes.units = 'degrés est'\n",
        "\n",
        "levels.long_name = 'niveaux verticaux'\n",
        "levels.units = 'hPa'\n",
        "levels.positive = 'down'\n",
        "\n",
        "beg_date = datetime.datetime(year=2019, month=1, day=1)\n",
        "times.long_name = 'temps'\n",
        "times.units = beg_date.strftime('heures depuis %Y-%m-%d %H:%M:%S')\n",
        "times.calendar = 'gregorian'\n",
        "\n",
        "temp.long_name = 'température'\n",
        "temp.units = 'K'\n",
        "temp.nom_standard = 'température_atmosphérique'"
      ]
    },
    {
      "cell_type": "markdown",
      "metadata": {
        "id": "6RAaOwwAbaK6"
      },
      "source": [
        "##### **Écrire des données dans un fichier**"
      ]
    },
    {
      "cell_type": "code",
      "execution_count": null,
      "metadata": {
        "id": "sIXVIGhDbaK6"
      },
      "outputs": [],
      "source": [
        "latitudes[ :] = np.arange(-90,91,2.0)\n",
        "longitudes[ :] = np.arange(-180,180,2.5)\n",
        "levels[ :] = np.arange(0,72,1)\n",
        "\n",
        "out_frequency = 3 # fréquence de sortie en heures\n",
        "num_records = 5\n",
        "dates = [beg_date + n*datetime.timedelta(hours=out_frequency) for n in range(num_records)]\n",
        "times[ :] = netCDF4.date2num(dates, units=times.units, calendar=times.calendar)\n",
        "for i in range(num_records) :\n",
        "    temp[i, :,:, :] = np.random.uniform(size=(levels.size,\n",
        "                                            latitudes.size,\n",
        "                                            longitudes.size))"
      ]
    },
    {
      "cell_type": "code",
      "execution_count": null,
      "metadata": {
        "id": "YQlfxCQBbaK7"
      },
      "outputs": [],
      "source": [
        "ncfid.close()"
      ]
    },
    {
      "cell_type": "markdown",
      "metadata": {
        "id": "Krl2fEQfbaK7"
      },
      "source": [
        "#### Nous allons maintenant lire le fichier netCDF4 stocké pour voir ce que nous venons de faire."
      ]
    },
    {
      "cell_type": "code",
      "execution_count": null,
      "metadata": {
        "id": "NFm9NlUYbaK7"
      },
      "outputs": [],
      "source": [
        "databank = netCDF4.Dataset('./sample_netcdf.nc', mode='r')"
      ]
    },
    {
      "cell_type": "code",
      "execution_count": null,
      "metadata": {
        "id": "umzTfhSRbaK7"
      },
      "outputs": [],
      "source": [
        "# Nous imprimons les noms des variables dans le fichier `sample_netcdf.nc`.\n",
        "print(databank.variables.keys())"
      ]
    },
    {
      "cell_type": "code",
      "execution_count": null,
      "metadata": {
        "id": "ZKThAXPMbaK7"
      },
      "outputs": [],
      "source": [
        "# Nous pouvons lire les données comme suit\n",
        "time   = ncfid.variables['time'][:]\n",
        "lev    = ncfid.variables['lev'][:]\n",
        "lat    = ncfid.variables['lat'][:]\n",
        "lon    = ncfid.variables['lon'][:]\n",
        "temp   = ncfid.variables['temp'][:]"
      ]
    },
    {
      "cell_type": "markdown",
      "metadata": {
        "id": "TJiGldzEbaK8"
      },
      "source": [
        "```{important}\n",
        "\n",
        "Lors de la lecture de données à partir d'un fichier :\n",
        "\n",
        "- Si vous n'incluez pas `[ :]` à la fin de `variables[var_name]`, vous obtenez un objet variable.\n",
        "- Si vous incluez `[ :]` (ou `[ :,:]`, `[0, i:j, :]`, etc.) à la fin de `variables[var_name]`, vous obtenez le tableau Numpy contenant les données.\n",
        "```"
      ]
    },
    {
      "cell_type": "code",
      "execution_count": null,
      "metadata": {
        "id": "AJrJwIUhbaK8"
      },
      "outputs": [],
      "source": [
        "print(lat)"
      ]
    }
  ],
  "metadata": {
    "kernelspec": {
      "display_name": "JupyterBook",
      "language": "python",
      "name": "python3"
    },
    "language_info": {
      "name": "python",
      "version": "3.12.0"
    },
    "colab": {
      "provenance": [],
      "include_colab_link": true
    }
  },
  "nbformat": 4,
  "nbformat_minor": 0
}