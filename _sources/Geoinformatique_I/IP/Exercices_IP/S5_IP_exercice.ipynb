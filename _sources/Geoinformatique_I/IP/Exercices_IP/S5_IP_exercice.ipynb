{
  "cells": [
    {
      "cell_type": "markdown",
      "metadata": {
        "colab_type": "text",
        "id": "view-in-github"
      },
      "source": [
        "<a href=\"https://colab.research.google.com/github/tbeucler/2024_UNIL_Geoinformatique/blob/main/Geoinformatique_I/IP/Exercices_IP/S5_IP_exercice.ipynb\" target=\"_parent\"><img src=\"https://colab.research.google.com/assets/colab-badge.svg\" alt=\"Open In Colab\"/></a>"
      ]
    },
    {
      "cell_type": "markdown",
      "metadata": {
        "id": "RI1rTGlgoV4A"
      },
      "source": [
        "# Exercice 5 - Bonnes pratiques de programmation"
      ]
    },
    {
      "cell_type": "markdown",
      "metadata": {},
      "source": [
        "## Classes"
      ]
    },
    {
      "cell_type": "markdown",
      "metadata": {},
      "source": [
        "**Q1) Ecrivez une classe `planet` avec deux attributs : `nom` et `masse`**"
      ]
    },
    {
      "cell_type": "code",
      "execution_count": 1,
      "metadata": {},
      "outputs": [],
      "source": [
        "# Écrivez votre classe ici\n",
        "classe planet :\n",
        "  def __init__(____,inname=____,inmass=____):\n",
        "    self.name = inname\n",
        "    self.mass = inmass\n",
        "# Créer une nouvelle instance de cette classe pour représenter la Terre (masse=5,97)\n",
        "terre = planet(_______,_____)\n",
        "# Créer une nouvelle instance de cette classe pour représenter Jupiter (masse=1898)\n",
        "jupiter = planet(_______,____)"
      ]
    },
    {
      "cell_type": "code",
      "execution_count": 2,
      "metadata": {},
      "outputs": [
        {
          "name": "stdout",
          "output_type": "stream",
          "text": [
            "Earth 5.97\n"
          ]
        }
      ],
      "source": [
        "# Comment vérifier que vous avez fait le bon choix ?\n",
        "print(terre._____,terre.____)"
      ]
    },
    {
      "cell_type": "markdown",
      "metadata": {},
      "source": [
        "**Q2) Ajouter une méthode personnalisée `is_light` à la classe `planet` qui retourne `True` si la planète est strictement plus légère que Jupiter, `False` strictement plus lourde que Jupiter, et 'same mass!' si la planète pèse le même poids que Jupiter**."
      ]
    },
    {
      "cell_type": "code",
      "execution_count": null,
      "metadata": {},
      "outputs": [],
      "source": [
        "# Changez votre classe ici\n",
        "class planet :\n",
        "  def __init__(____,inname=____,inmass=____):\n",
        "    self.name = inname\n",
        "    self.mass = inmass\n",
        "  def is_light(____) :\n",
        "    if ___________<planetdict['jupiter']:\n",
        "      print('True')\n",
        "    elif ____________>planetdict['jupiter']:\n",
        "      print('False')\n",
        "    else :\n",
        "      print('même masse!')\n",
        "\n",
        "# Demandez à Python si la Terre est plus légère que Jupiter, vous devriez voir True pour cette question !\n",
        "planet(_____,planetdict[_____]).is_light()\n",
        "# Demandez à Python si Jupiter est plus léger qu'elle-même, vous devriez voir same mass ! pour celle-ci !\n",
        "planet(_____,planetdict[_____]).is_light()"
      ]
    }
  ],
  "metadata": {
    "colab": {
      "include_colab_link": true,
      "provenance": []
    },
    "kernelspec": {
      "display_name": "JupyterBook",
      "language": "python",
      "name": "python3"
    },
    "language_info": {
      "codemirror_mode": {
        "name": "ipython",
        "version": 3
      },
      "file_extension": ".py",
      "mimetype": "text/x-python",
      "name": "python",
      "nbconvert_exporter": "python",
      "pygments_lexer": "ipython3",
      "version": "3.12.0"
    }
  },
  "nbformat": 4,
  "nbformat_minor": 0
}
