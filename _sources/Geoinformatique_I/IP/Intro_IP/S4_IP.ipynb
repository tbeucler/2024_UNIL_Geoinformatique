{
 "cells": [
  {
   "cell_type": "markdown",
   "metadata": {},
   "source": [
    "# Fonctions"
   ]
  },
  {
   "cell_type": "markdown",
   "metadata": {},
   "source": [
    "Comprendre l'importance de l'organisation du code, de la structuration et de la réutilisation de code\n",
    "\n",
    "- Principe des fonctions, paramètres et valeurs de retour\n",
    "- Portée des variables (variables globales et locales)\n",
    "- Modules Python\n",
    "- Bibliothèques standards en Python"
   ]
  }
 ],
 "metadata": {
  "language_info": {
   "name": "python"
  }
 },
 "nbformat": 4,
 "nbformat_minor": 2
}
