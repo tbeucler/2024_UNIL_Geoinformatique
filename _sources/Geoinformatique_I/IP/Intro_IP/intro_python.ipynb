{
 "cells": [
  {
   "cell_type": "markdown",
   "metadata": {},
   "source": [
    "# Introduction à la programmation Python"
   ]
  },
  {
   "cell_type": "markdown",
   "metadata": {},
   "source": [
    "Dans ce premier chapitre, nous vous guiderons à travers les bases de Python qui vous permettront de naviguer dans le reste du livre. Ceci inclut les bases des variables, du fluy de contrôle, des entrées/sorties de fichiers, de la structure des données, des fonctions et des classes en Python. "
   ]
  }
 ],
 "metadata": {
  "language_info": {
   "name": "python"
  }
 },
 "nbformat": 4,
 "nbformat_minor": 2
}
