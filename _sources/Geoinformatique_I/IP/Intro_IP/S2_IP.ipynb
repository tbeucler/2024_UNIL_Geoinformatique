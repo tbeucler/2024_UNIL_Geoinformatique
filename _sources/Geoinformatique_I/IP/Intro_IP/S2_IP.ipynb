{
 "cells": [
  {
   "cell_type": "markdown",
   "metadata": {},
   "source": [
    "# Structures de contrôle"
   ]
  },
  {
   "cell_type": "markdown",
   "metadata": {},
   "source": [
    "Conditions et boucles, débugage\n",
    "\n",
    "- Conditions `if`, `else`, `elif`\n",
    "- Boucles `for` et `while`\n",
    "- Principes de base pour détecter les erreurs de programmation"
   ]
  }
 ],
 "metadata": {
  "language_info": {
   "name": "python"
  }
 },
 "nbformat": 4,
 "nbformat_minor": 2
}
