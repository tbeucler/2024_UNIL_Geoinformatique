{
 "cells": [
  {
   "cell_type": "markdown",
   "metadata": {},
   "source": [
    "# Classes et objets, Meilleures pratiques, exceptions et tests"
   ]
  },
  {
   "cell_type": "markdown",
   "metadata": {},
   "source": [
    "Comprendre les principes de base de la programmation orientée objets. Comprendre comment gérer les erreurs, vérification du code. \n",
    "\n",
    "- Définition des classes, création d'objets\n",
    "- Principes d'héritage\n",
    "\n",
    "- Introduction aux exceptions, gestion avec `try`, `except`, `else` et `finally`\n",
    "- Vérificatino du code à l'aide de tests automatisés\n"
   ]
  }
 ],
 "metadata": {
  "language_info": {
   "name": "python"
  }
 },
 "nbformat": 4,
 "nbformat_minor": 2
}
