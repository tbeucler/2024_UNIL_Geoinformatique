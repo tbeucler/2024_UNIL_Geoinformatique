{
 "cells": [
  {
   "cell_type": "markdown",
   "metadata": {},
   "source": [
    "# Structures de données"
   ]
  },
  {
   "cell_type": "markdown",
   "metadata": {},
   "source": [
    "Gérer les entrées et sorties de fichiers. Comprendre et manipuler les structures de données de type listes, tuples, sets et dictionnaires.\n",
    "\n",
    "- Lecture et écriture de fichiers\n",
    "- Pour chaque type de structure: création, modification, méthodes\n",
    "- Structures imbriquées"
   ]
  }
 ],
 "metadata": {
  "language_info": {
   "name": "python"
  }
 },
 "nbformat": 4,
 "nbformat_minor": 2
}
