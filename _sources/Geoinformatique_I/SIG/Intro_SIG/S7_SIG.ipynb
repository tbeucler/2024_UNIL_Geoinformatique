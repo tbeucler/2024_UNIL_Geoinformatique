{
 "cells": [
  {
   "cell_type": "markdown",
   "metadata": {},
   "source": [
    "# Introduction SIG & Projections"
   ]
  },
  {
   "cell_type": "markdown",
   "metadata": {},
   "source": [
    "(Savoir éditer des données vectorielles dans QGIS, gérer les formats de données avec Python.\n",
    "\n",
    "- Formats de données SIG\n",
    "- Création et édition de couches: numérisation, édition\n",
    "- Gestion des données SIG\n",
    "- Gestion des sources de données SIG avec Python et Fiona\n",
    "- Introduction à PyQGIS)"
   ]
  },
  {
   "cell_type": "markdown",
   "metadata": {},
   "source": [
    "(Comprendre les systèmes de coordonnées, projeter des données, transformations simples de géométries\n",
    "\n",
    "- Introduction aux systèmes de coordonnées géographiques et projetés\n",
    "- Principes des projections\n",
    "- Projeter des données avec QGIS et Python (avec PyQGIS et pyproj)\n",
    "- Manipuler les géométries avec Shapely)"
   ]
  }
 ],
 "metadata": {
  "language_info": {
   "name": "python"
  }
 },
 "nbformat": 4,
 "nbformat_minor": 2
}
