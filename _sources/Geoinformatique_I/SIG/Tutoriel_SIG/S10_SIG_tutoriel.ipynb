{
 "cells": [
  {
   "cell_type": "markdown",
   "metadata": {},
   "source": [
    "## Tutoriel 10 - Visualisation & AI-assisted programming\n",
    "\n",
    "Dans cette section, nous aborderons les points suivants:\n",
    "\n",
    "- ChatGPT\n",
    "- Copilot\n",
    "- Dalle 3"
   ]
  }
 ],
 "metadata": {
  "language_info": {
   "name": "python"
  }
 },
 "nbformat": 4,
 "nbformat_minor": 2
}
