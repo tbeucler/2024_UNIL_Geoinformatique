{
 "cells": [
  {
   "cell_type": "markdown",
   "metadata": {},
   "source": [
    "## Tutoriel 9 - Géotraitement\n",
    "\n",
    "Dans cette section, nous aborderons les points suivants:\n",
    "\n",
    "- Chaîne de traitements\n",
    "- Agréger et délimiter des zones\n",
    "- Shapely"
   ]
  }
 ],
 "metadata": {
  "language_info": {
   "name": "python"
  }
 },
 "nbformat": 4,
 "nbformat_minor": 2
}
