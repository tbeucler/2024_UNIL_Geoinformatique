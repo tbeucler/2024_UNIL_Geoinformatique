{
 "cells": [
  {
   "cell_type": "markdown",
   "metadata": {},
   "source": [
    "## Tutoriel 8 - Données spatiale\n",
    "\n",
    "Dans cette section, nous aborderons les points suivants:\n",
    "\n",
    "- Principe et intérêt de l'OpenData et des métadonnées\n",
    "- Géodatabase\n",
    "- Séléections, requêtes et jointures\n",
    "- Geopandas"
   ]
  }
 ],
 "metadata": {
  "language_info": {
   "name": "python"
  }
 },
 "nbformat": 4,
 "nbformat_minor": 2
}
