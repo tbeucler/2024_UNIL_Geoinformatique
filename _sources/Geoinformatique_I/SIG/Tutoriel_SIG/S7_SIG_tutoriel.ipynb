{
 "cells": [
  {
   "cell_type": "markdown",
   "metadata": {},
   "source": [
    "## Tutoriel 7 - Introduction SIG & Projection\n",
    "\n",
    "Dans cette section, nous aborderons les points suivants:\n",
    "\n",
    "- Introduction SIG\n",
    "- Modèle vecteur vs modèle raster\n",
    "- Principe de projection\n",
    "- Système géodésique (datum)\n",
    "- Modéisation Numérique de terrain (MNT)\n",
    "- Opérateur topologique\n",
    "- Cartopy"
   ]
  },
  {
   "cell_type": "markdown",
   "metadata": {},
   "source": [
    "## Introduction SIG\n",
    "### Petite définition \n",
    "\n",
    "Géomatique = Géographie + informatique\n",
    "- «La géomatique regroupe l'ensemble des outils et méthodes permettant\n",
    "d'acquérir, de représenter, d'analyser et d'intégrer des données\n",
    "géographiques. La géomatique consiste donc en au moins trois activités\n",
    "distinctes : collecte, traitement et diffusion des données géographiques». \n",
    "\n",
    "- «L'information géographique est la représentation d'un objet ou d'un\n",
    "phénomène réel ou imaginaire, présent, passé ou futur, localisé dans l'espace\n",
    "à un moment donné et quelles qu'en soient la dimension et l'échelle de\n",
    "représentation.»                \n",
    "(Wikipedia: /Géomatique, /Information_géographique)"
   ]
  },
  {
   "cell_type": "markdown",
   "metadata": {},
   "source": [
    "### Système d'information géographique\n",
    "\n",
    "Un SIG est composé de :\n",
    "• Matériel (ordinateur...)\n",
    "• Logiciel de traitement (ArcGIS, QGIS, FME, R, suite Autodesk…)\n",
    "• Données géographiques (géométries à référence spatiale)\n",
    "• Données descriptives / attributaires (table, base de données)\n",
    "• Fonctions\n",
    "• … et vous ! (utilisateurs, administrations, clients)"
   ]
  },
  {
   "cell_type": "markdown",
   "metadata": {},
   "source": [
    "### Logiciel à l'UNIL: ARCGIS ou QGIS\n",
    "\n",
    "![Arcgis Logo](/Users/shakidi/UNIL/Jupyter_Book/2024_UNIL_Geoinformatique/Geoinformatique_I/SIG/Tutoriel_SIG/Images/Arcgis_logo.png)\n",
    "\n",
    "- Depuis 1999\n",
    "- Propriétaire (ESRI) > $$$\n",
    "- Windows + Linux\n",
    "- Très bien documenté\n",
    "- Ecosystème produits ESRI\n",
    "- Largement utilisé entreprises/admin\n",
    "https://www.arcgis.com\n",
    "\n",
    "![QGIS logo](/Users/shakidi/UNIL/Jupyter_Book/2024_UNIL_Geoinformatique/Geoinformatique_I/SIG/Tutoriel_SIG/Images/QGIS_logo.png)\n",
    "\n",
    "- Depuis 2002\n",
    "- Libre\n",
    "- Multi-plateforme\n",
    "- Grande communauté d’utilisateurs\n",
    "- ++ dans administration,associations, formation...\n",
    "https://qgis.org"
   ]
  },
  {
   "cell_type": "markdown",
   "metadata": {},
   "source": [
    "### Système d'information géographique : fonctions\n",
    "\n",
    "Un (logiciel) SIG est conçu pour réaliser les fonctions :\n",
    "- d’enregistrement : acquisition et saisie\n",
    "- de gestion des données : édition et construction\n",
    "- de traitement : analyse et modélisation\n",
    "- de visualisation ou représentation de l’information géographique.\n",
    "\n",
    "![image](/Users/shakidi/UNIL/Jupyter_Book/2024_UNIL_Geoinformatique/Geoinformatique_I/SIG/Tutoriel_SIG/Images/fonctions.png)\n"
   ]
  },
  {
   "cell_type": "markdown",
   "metadata": {},
   "source": [
    "### SIG vs Carto Traditionnelle\n",
    "SIG:\n",
    "- Gestion, traitement et affichage de base de données (géométries et attributs)\n",
    "- Géoréférencement intégré\n",
    "- Facilité du géotraitement (surtout répété)\n",
    "- Mise à jour aisée\n",
    "\n",
    "\n",
    "Cartographie traditionnelle:\n",
    "- Echelle fixe Information limitée\n",
    "- Pas d’interrogation dynamique des objets\n",
    "- Mise à jour difficile\n"
   ]
  }
 ],
 "metadata": {
  "language_info": {
   "name": "python"
  }
 },
 "nbformat": 4,
 "nbformat_minor": 2
}
