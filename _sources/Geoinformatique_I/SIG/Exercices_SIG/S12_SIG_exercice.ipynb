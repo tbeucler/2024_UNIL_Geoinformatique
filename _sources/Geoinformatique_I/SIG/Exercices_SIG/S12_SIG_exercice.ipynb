{
 "cells": [
  {
   "cell_type": "markdown",
   "metadata": {},
   "source": [
    "## Exercice 12"
   ]
  }
 ],
 "metadata": {
  "language_info": {
   "name": "python"
  }
 },
 "nbformat": 4,
 "nbformat_minor": 2
}
