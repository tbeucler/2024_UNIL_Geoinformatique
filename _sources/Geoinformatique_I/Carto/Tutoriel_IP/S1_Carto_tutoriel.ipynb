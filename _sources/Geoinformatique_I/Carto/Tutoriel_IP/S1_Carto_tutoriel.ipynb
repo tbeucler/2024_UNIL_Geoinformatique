{
 "cells": [
  {
   "cell_type": "markdown",
   "metadata": {},
   "source": [
    "## Tutoriel 1"
   ]
  },
  {
   "cell_type": "markdown",
   "metadata": {},
   "source": [
    " 1. Définitions\n",
    " 2. Fonctions\n",
    " 3. Caractéristiques\n",
    " 4. Echelle\n",
    " 5. Topo VS thématique\n",
    " 6. Exemple\n",
    " 7. Coordonnées \n"
   ]
  }
 ],
 "metadata": {
  "language_info": {
   "name": "python"
  }
 },
 "nbformat": 4,
 "nbformat_minor": 2
}
