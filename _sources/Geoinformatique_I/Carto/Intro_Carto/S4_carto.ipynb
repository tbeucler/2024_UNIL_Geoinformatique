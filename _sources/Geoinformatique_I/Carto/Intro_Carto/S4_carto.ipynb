{
 "cells": [
  {
   "cell_type": "markdown",
   "metadata": {},
   "source": [
    "# Indicateurs et discrétisation"
   ]
  },
  {
   "cell_type": "markdown",
   "metadata": {},
   "source": [
    "- Tableaux de données attributaires\n",
    "- Définition et calcul d'indicateurs\n",
    "- Caractériser une distribution statistique d'un indicateur\n",
    "- Principes et méthodes de mise en classe"
   ]
  }
 ],
 "metadata": {
  "language_info": {
   "name": "python"
  }
 },
 "nbformat": 4,
 "nbformat_minor": 2
}
