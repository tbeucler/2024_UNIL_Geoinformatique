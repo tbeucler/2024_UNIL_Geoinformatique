{
 "cells": [
  {
   "cell_type": "markdown",
   "metadata": {},
   "source": [
    "## Modélisation du territoire, généralisation"
   ]
  },
  {
   "cell_type": "markdown",
   "metadata": {},
   "source": [
    "- Modèles de la réalité du territoire\n",
    "- Modèle vectoriel\n",
    "- Modèle raster\n",
    "- Notion de couche\n",
    "- Généralisation: adaptation des géométries à l'échelle\n",
    "- Principes de la topologie du modèle vectoriel"
   ]
  }
 ],
 "metadata": {
  "language_info": {
   "name": "python"
  }
 },
 "nbformat": 4,
 "nbformat_minor": 2
}
