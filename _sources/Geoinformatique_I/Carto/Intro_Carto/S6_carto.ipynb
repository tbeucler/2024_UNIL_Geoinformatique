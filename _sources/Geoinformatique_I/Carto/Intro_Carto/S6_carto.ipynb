{
 "cells": [
  {
   "cell_type": "markdown",
   "metadata": {},
   "source": [
    "# Principe de base des SIG"
   ]
  },
  {
   "cell_type": "markdown",
   "metadata": {},
   "source": [
    "- Fonctionnement de base d'un SIG\n",
    "- Lecture et écriture de fichiers\n",
    "- Symbologie et règles graphiques\n",
    "- Sélections et filtres\n"
   ]
  }
 ],
 "metadata": {
  "language_info": {
   "name": "python"
  }
 },
 "nbformat": 4,
 "nbformat_minor": 2
}
