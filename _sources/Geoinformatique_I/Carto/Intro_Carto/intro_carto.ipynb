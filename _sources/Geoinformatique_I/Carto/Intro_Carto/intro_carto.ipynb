{
 "cells": [
  {
   "cell_type": "markdown",
   "metadata": {},
   "source": [
    "# Introduction à la cartographie\n"
   ]
  },
  {
   "cell_type": "markdown",
   "metadata": {},
   "source": [
    "Pour ce cours de géoinformatique la partie 1.Cartographie et 2.Programmation Python vont se dérouler en parallèle. Une fois arrivé au chapitre 6 de ces parties, la suite se trouve dans 3.Géoinformatique et SIG "
   ]
  }
 ],
 "metadata": {
  "language_info": {
   "name": "python"
  }
 },
 "nbformat": 4,
 "nbformat_minor": 2
}
