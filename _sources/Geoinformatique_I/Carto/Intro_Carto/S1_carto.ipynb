{
 "cells": [
  {
   "cell_type": "markdown",
   "metadata": {},
   "source": [
    "## Cartographie: cadre générale"
   ]
  },
  {
   "cell_type": "markdown",
   "metadata": {},
   "source": [
    "- Définition d'une carte et de la cartographie\n",
    "- Discussion des différences entre carte topographique et thématique\n",
    "- Principe des coordonnées\n",
    "- Échelle cartographique.\n"
   ]
  }
 ],
 "metadata": {
  "language_info": {
   "name": "python"
  }
 },
 "nbformat": 4,
 "nbformat_minor": 2
}
